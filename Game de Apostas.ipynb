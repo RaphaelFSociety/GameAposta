{
 "cells": [
  {
   "cell_type": "code",
   "execution_count": 1,
   "id": "ed1de9a1",
   "metadata": {},
   "outputs": [
    {
     "name": "stdout",
     "output_type": "stream",
     "text": [
      "Bem Vindo ao Jogo!\n",
      "Nome do Jogador >> Raphael\n",
      "Bem vindo ao jogo, Raphael. Sua quantia inicial é de 50 Reais.\n",
      "Faça sua aposta >> 5\n",
      "Sua carta é 4. Carta da CPU é 3.\n",
      "Você ganhou 5 Reais!\n",
      "Total da sua carteira até agora é  55 Reais.\n",
      "Você gostaria de continuar? [y/N] >> y\n",
      "Faça sua aposta >> 10\n",
      "Sua carta é 7. Carta da CPU é 7.\n",
      "É um empate! CPU vence porque é assim.\n",
      "Total da sua carteira até agora é  45 Reais.\n",
      "Você gostaria de continuar? [y/N] >> n\n",
      "Você está saindo com 45 Reais. Até logo.\n",
      "Fim de Jogo. Até a Próxima!\n"
     ]
    }
   ],
   "source": [
    "import random\n",
    "\n",
    "def intro_banner():\n",
    "    s = \"Bem Vindo ao Jogo!\"\n",
    "    \n",
    "    print(s)\n",
    "\n",
    "def game_over():\n",
    "    s = \"Fim de Jogo. Até a Próxima!\"\n",
    "\n",
    "    print(s)\n",
    "    \n",
    "def main():\n",
    "    intro_banner()\n",
    "\n",
    "    playername = input('Nome do Jogador >> ')\n",
    "    money = 50\n",
    "    print(\"Bem vindo ao jogo, \" + playername + \". Sua quantia inicial é de \" + str(money) + ' Reais.')\n",
    "    \n",
    "    keepplaying = True\n",
    "    while keepplaying:\n",
    "        bet = input(\"Faça sua aposta >> \")\n",
    "        isbetnotvalid = int(bet) > money or int(bet) < -1\n",
    "        while isbetnotvalid:\n",
    "            print(\"Por favor faça uma aposta válida.\")\n",
    "            bet = input(\"Faça sua aposta >> \")\n",
    "            isbetnotvalid = int(bet) > money or int(bet) < -1\n",
    "\n",
    "        bet = int(bet)\n",
    "\n",
    "        player_card = random.randint(1, 12)\n",
    "        cpu_card = random.randint(1, 12)\n",
    "\n",
    "        print(\"Sua carta é \" + str(player_card) + \". Carta da CPU é \" + str(cpu_card) + \".\")\n",
    "\n",
    "        if player_card == cpu_card:\n",
    "            print(\"É um empate! CPU vence porque é assim.\")\n",
    "            money = money - bet\n",
    "        elif player_card > cpu_card:\n",
    "            print(\"Você ganhou \" + str(bet) + \" Reais!\")\n",
    "            money = money + bet\n",
    "        else:\n",
    "            print(\"CPU ganhou! Você perdeu \" + str(bet) + \" Reais!\")\n",
    "            money = money - bet\n",
    "\n",
    "        if money < 0:\n",
    "            print(\"Você está sem dinheiro!\")\n",
    "            game_over()\n",
    "            keepplaying = False\n",
    "        else: \n",
    "            print(\"Total da sua carteira até agora é  \" + str(money) + \" Reais.\")\n",
    "            ask = input(\"Você gostaria de continuar? [y/N] >> \")\n",
    "            if ask == 'y' or ask == 'Y':\n",
    "                keepplaying = True\n",
    "            else:\n",
    "                print(\"Você está saindo com \" + str(money) + \" Reais. Até logo.\")\n",
    "                game_over()\n",
    "                keepplaying = False\n",
    "main()"
   ]
  },
  {
   "cell_type": "code",
   "execution_count": null,
   "id": "a2245f45",
   "metadata": {},
   "outputs": [],
   "source": []
  },
  {
   "cell_type": "code",
   "execution_count": null,
   "id": "7bee1b38",
   "metadata": {},
   "outputs": [],
   "source": []
  }
 ],
 "metadata": {
  "kernelspec": {
   "display_name": "Python 3 (ipykernel)",
   "language": "python",
   "name": "python3"
  },
  "language_info": {
   "codemirror_mode": {
    "name": "ipython",
    "version": 3
   },
   "file_extension": ".py",
   "mimetype": "text/x-python",
   "name": "python",
   "nbconvert_exporter": "python",
   "pygments_lexer": "ipython3",
   "version": "3.9.13"
  }
 },
 "nbformat": 4,
 "nbformat_minor": 5
}
